{
 "cells": [
  {
   "cell_type": "markdown",
   "metadata": {},
   "source": [
    "**Connecting to the database**"
   ],
   "id": "98c7ed58d6c87ae0"
  },
  {
   "cell_type": "code",
   "execution_count": null,
   "metadata": {
    "is_executing": true
   },
   "outputs": [],
   "source": [
    "import leafmap"
   ],
   "id": "d70fa2f0aea54d13"
  },
  {
   "cell_type": "markdown",
   "metadata": {},
   "source": [
    "You can directly pass in the username and password to access the database. Alternative, you can define environment variables. The default environment variables for user and password are `SQL_USER` and `SQL_PASSWORD`, respectively."
   ],
   "id": "d677f8de172664be"
  },
  {
   "cell_type": "markdown",
   "metadata": {},
   "source": [
    "The `try...except...` statements are only used for building the documentation website (https://leafmap.org) because the PostGIS database is not available on GitHub. If you are running the notebook with Jupyter installed locally and PostGIS set up properly, you don't need these `try...except...` statements."
   ],
   "id": "7c2bed288c4aac6a"
  },
  {
   "cell_type": "code",
   "execution_count": 2,
   "metadata": {
    "ExecuteTime": {
     "end_time": "2023-05-17T23:31:34.867736Z",
     "start_time": "2023-05-17T23:31:27.262975Z"
    }
   },
   "outputs": [
    {
     "ename": "ValueError",
     "evalue": "user is not specified.",
     "output_type": "error",
     "traceback": [
      "\u001B[0;31m---------------------------------------------------------------------------\u001B[0m",
      "\u001B[0;31mValueError\u001B[0m                                Traceback (most recent call last)",
      "Cell \u001B[0;32mIn[2], line 1\u001B[0m\n\u001B[0;32m----> 1\u001B[0m con \u001B[38;5;241m=\u001B[39m \u001B[43mleafmap\u001B[49m\u001B[38;5;241;43m.\u001B[39;49m\u001B[43mconnect_postgis\u001B[49m\u001B[43m(\u001B[49m\n\u001B[1;32m      2\u001B[0m \u001B[43m    \u001B[49m\u001B[43mdatabase\u001B[49m\u001B[38;5;241;43m=\u001B[39;49m\u001B[38;5;124;43m\"\u001B[39;49m\u001B[38;5;124;43mgeo\u001B[39;49m\u001B[38;5;124;43m\"\u001B[39;49m\u001B[43m,\u001B[49m\u001B[43m \u001B[49m\u001B[43mhost\u001B[49m\u001B[38;5;241;43m=\u001B[39;49m\u001B[38;5;124;43m\"\u001B[39;49m\u001B[38;5;124;43mlocalhost\u001B[39;49m\u001B[38;5;124;43m\"\u001B[39;49m\u001B[43m,\u001B[49m\u001B[43m \u001B[49m\u001B[43muser\u001B[49m\u001B[38;5;241;43m=\u001B[39;49m\u001B[38;5;28;43;01mNone\u001B[39;49;00m\u001B[43m,\u001B[49m\u001B[43m \u001B[49m\u001B[43mpassword\u001B[49m\u001B[38;5;241;43m=\u001B[39;49m\u001B[38;5;28;43;01mNone\u001B[39;49;00m\u001B[43m,\u001B[49m\u001B[43m \u001B[49m\u001B[43muse_env_var\u001B[49m\u001B[38;5;241;43m=\u001B[39;49m\u001B[38;5;28;43;01mTrue\u001B[39;49;00m\n\u001B[1;32m      3\u001B[0m \u001B[43m)\u001B[49m\n",
      "File \u001B[0;32m~/miniconda3/envs/geoworkshop/lib/python3.10/site-packages/leafmap/common.py:1694\u001B[0m, in \u001B[0;36mconnect_postgis\u001B[0;34m(database, host, user, password, port, use_env_var)\u001B[0m\n\u001B[1;32m   1691\u001B[0m     password \u001B[38;5;241m=\u001B[39m os\u001B[38;5;241m.\u001B[39mgetenv(\u001B[38;5;124m\"\u001B[39m\u001B[38;5;124mSQL_PASSWORD\u001B[39m\u001B[38;5;124m\"\u001B[39m)\n\u001B[1;32m   1693\u001B[0m \u001B[38;5;28;01mif\u001B[39;00m user \u001B[38;5;129;01mis\u001B[39;00m \u001B[38;5;28;01mNone\u001B[39;00m:\n\u001B[0;32m-> 1694\u001B[0m     \u001B[38;5;28;01mraise\u001B[39;00m \u001B[38;5;167;01mValueError\u001B[39;00m(\u001B[38;5;124m\"\u001B[39m\u001B[38;5;124muser is not specified.\u001B[39m\u001B[38;5;124m\"\u001B[39m)\n\u001B[1;32m   1695\u001B[0m \u001B[38;5;28;01mif\u001B[39;00m password \u001B[38;5;129;01mis\u001B[39;00m \u001B[38;5;28;01mNone\u001B[39;00m:\n\u001B[1;32m   1696\u001B[0m     \u001B[38;5;28;01mraise\u001B[39;00m \u001B[38;5;167;01mValueError\u001B[39;00m(\u001B[38;5;124m\"\u001B[39m\u001B[38;5;124mpassword is not specified.\u001B[39m\u001B[38;5;124m\"\u001B[39m)\n",
      "\u001B[0;31mValueError\u001B[0m: user is not specified."
     ]
    }
   ],
   "source": [
    "con = leafmap.connect_postgis(\n",
    "    database=\"geo\", host=\"localhost\", user=None, password=None, use_env_var=True\n",
    ")"
   ],
   "id": "21517e1fed258509"
  },
  {
   "cell_type": "markdown",
   "metadata": {},
   "source": [
    "Create a GeoDataFrame from a sql query."
   ],
   "id": "561bdf60b6605783"
  },
  {
   "cell_type": "code",
   "execution_count": null,
   "metadata": {},
   "outputs": [],
   "source": [
    "sql = 'SELECT start_time_utc FROM rollin_telematics.drive_summary'"
   ],
   "id": "42892cb61c5f6910"
  },
  {
   "cell_type": "code",
   "execution_count": null,
   "metadata": {},
   "outputs": [],
   "source": [
    "gdf = leafmap.read_postgis(sql, con, geom_col=\"drive_geom\")\n",
    "display(gdf)"
   ],
   "id": "a509f2760916d25a"
  },
  {
   "cell_type": "markdown",
   "metadata": {},
   "source": [
    "Display the GeoDataFrame on the interactive map."
   ],
   "id": "5948da6055b188c0"
  },
  {
   "cell_type": "code",
   "execution_count": null,
   "metadata": {},
   "outputs": [],
   "source": [
    "m = leafmap.Map()\n",
    "m.add_gdf_from_postgis(\n",
    "    sql, con, layer_name=\"ROLLiN' Trips\"\n",
    ")\n",
    "display(m)"
   ],
   "id": "5801957e6bdd8a65"
  },
  {
   "cell_type": "markdown",
   "metadata": {},
   "source": [],
   "id": "c3237b08984d7c52"
  }
 ],
 "metadata": {
  "kernelspec": {
   "display_name": "Python 3",
   "language": "python",
   "name": "python3"
  }
 },
 "nbformat": 4,
 "nbformat_minor": 5
}
